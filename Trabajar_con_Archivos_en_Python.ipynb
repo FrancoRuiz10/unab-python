{
  "cells": [
    {
      "cell_type": "code",
      "execution_count": 1,
      "metadata": {
        "id": "CR_a1jsNHhUk"
      },
      "outputs": [],
      "source": [
        "from pathlib import Path"
      ]
    },
    {
      "cell_type": "code",
      "execution_count": 2,
      "metadata": {
        "colab": {
          "base_uri": "https://localhost:8080/"
        },
        "id": "GFG_W2HlHl4r",
        "outputId": "713e4c28-916e-466e-d203-69cb225fc2bf"
      },
      "outputs": [
        {
          "data": {
            "text/plain": [
              "WindowsPath('d:/tooodo/escritorio/programacion/universidad/año 1/segunda parte/dia 8')"
            ]
          },
          "execution_count": 2,
          "metadata": {},
          "output_type": "execute_result"
        }
      ],
      "source": [
        "Path.cwd()"
      ]
    },
    {
      "cell_type": "code",
      "execution_count": 3,
      "metadata": {
        "id": "s6szEC2rH3hh"
      },
      "outputs": [],
      "source": [
        "camino1 = Path(\"~/sample_data\")"
      ]
    },
    {
      "cell_type": "code",
      "execution_count": 4,
      "metadata": {
        "colab": {
          "base_uri": "https://localhost:8080/"
        },
        "id": "QC6BDrvfItZg",
        "outputId": "1cdbb8be-c199-4d86-d79d-b0ab6d982d98"
      },
      "outputs": [
        {
          "data": {
            "text/plain": [
              "False"
            ]
          },
          "execution_count": 4,
          "metadata": {},
          "output_type": "execute_result"
        }
      ],
      "source": [
        "camino1.exists()"
      ]
    },
    {
      "cell_type": "code",
      "execution_count": 5,
      "metadata": {
        "id": "RbKpDH2FJAI6"
      },
      "outputs": [],
      "source": [
        "camino2 = Path(\"/content/sample_data\")"
      ]
    },
    {
      "cell_type": "code",
      "execution_count": 6,
      "metadata": {
        "colab": {
          "base_uri": "https://localhost:8080/"
        },
        "id": "_tfi0gbUJKCe",
        "outputId": "5c24e3d8-eb4c-416c-8c9d-63a3b15523f9"
      },
      "outputs": [
        {
          "data": {
            "text/plain": [
              "True"
            ]
          },
          "execution_count": 6,
          "metadata": {},
          "output_type": "execute_result"
        }
      ],
      "source": [
        "camino2.exists()"
      ]
    },
    {
      "cell_type": "code",
      "execution_count": 7,
      "metadata": {
        "colab": {
          "base_uri": "https://localhost:8080/"
        },
        "id": "UxGtXGx2JMXk",
        "outputId": "79679b3f-ae0c-4204-b06d-d065d161787d"
      },
      "outputs": [
        {
          "data": {
            "text/plain": [
              "True"
            ]
          },
          "execution_count": 7,
          "metadata": {},
          "output_type": "execute_result"
        }
      ],
      "source": [
        "camino3 = Path.cwd() / \"sample_data\"\n",
        "camino3.exists()"
      ]
    },
    {
      "cell_type": "code",
      "execution_count": 8,
      "metadata": {
        "colab": {
          "base_uri": "https://localhost:8080/"
        },
        "id": "-p7OAsRqJqfI",
        "outputId": "60e60ee5-5502-4d4d-94f5-a33cef38f69b"
      },
      "outputs": [
        {
          "data": {
            "text/plain": [
              "True"
            ]
          },
          "execution_count": 8,
          "metadata": {},
          "output_type": "execute_result"
        }
      ],
      "source": [
        "camino4 = Path.cwd() / \"sample_data\" / \"unab_c6\"\n",
        "camino4.exists()"
      ]
    },
    {
      "cell_type": "code",
      "execution_count": 9,
      "metadata": {
        "colab": {
          "base_uri": "https://localhost:8080/"
        },
        "id": "SjdEO6oSJ74y",
        "outputId": "0d73c225-93d7-49c6-a7fb-adb14207c399"
      },
      "outputs": [
        {
          "data": {
            "text/plain": [
              "False"
            ]
          },
          "execution_count": 9,
          "metadata": {},
          "output_type": "execute_result"
        }
      ],
      "source": [
        "camino5 = Path.cwd() / \"sample_data\" / \"unab_c6\" / \"parcial\"\n",
        "camino5.exists()"
      ]
    },
    {
      "cell_type": "code",
      "execution_count": 10,
      "metadata": {
        "colab": {
          "base_uri": "https://localhost:8080/"
        },
        "id": "yUMbJwAQKGxj",
        "outputId": "47601251-2fda-43e2-cf65-314501d95fee"
      },
      "outputs": [
        {
          "data": {
            "text/plain": [
              "PosixPath('/root')"
            ]
          },
          "execution_count": 10,
          "metadata": {},
          "output_type": "execute_result"
        }
      ],
      "source": [
        "Path.home()"
      ]
    },
    {
      "cell_type": "code",
      "execution_count": 12,
      "metadata": {
        "id": "DFnVFop0KlJF"
      },
      "outputs": [],
      "source": [
        "camino5.mkdir()"
      ]
    },
    {
      "cell_type": "code",
      "execution_count": 13,
      "metadata": {
        "id": "hNxBzbYALwZB"
      },
      "outputs": [],
      "source": [
        "camino6 = camino5 / \"nueva_carpeta\""
      ]
    },
    {
      "cell_type": "code",
      "execution_count": 14,
      "metadata": {
        "id": "X7B9ujKPMDoh"
      },
      "outputs": [],
      "source": [
        "camino6.mkdir()"
      ]
    },
    {
      "cell_type": "code",
      "execution_count": 15,
      "metadata": {
        "id": "bA0fYdG4MGG6"
      },
      "outputs": [],
      "source": [
        "camino6.rmdir()"
      ]
    },
    {
      "cell_type": "code",
      "execution_count": 16,
      "metadata": {
        "id": "Rpdxog5DM_Qo"
      },
      "outputs": [],
      "source": [
        "camino5.rmdir()"
      ]
    },
    {
      "cell_type": "code",
      "execution_count": 24,
      "metadata": {
        "id": "14U23GynNFdH"
      },
      "outputs": [],
      "source": [
        "camino5 = Path.cwd() / \"sample_data\" / \"unab_c6\" / \"parcial\"\n",
        "camino5.mkdir()"
      ]
    },
    {
      "cell_type": "code",
      "execution_count": 25,
      "metadata": {
        "id": "aLBpL8kPN5zM"
      },
      "outputs": [],
      "source": [
        "camino5.rmdir()"
      ]
    },
    {
      "cell_type": "code",
      "execution_count": 26,
      "metadata": {
        "id": "sXIr0OKdOEJ0"
      },
      "outputs": [],
      "source": [
        "import os"
      ]
    },
    {
      "cell_type": "code",
      "execution_count": 27,
      "metadata": {
        "id": "hYATuWbGO4x5"
      },
      "outputs": [],
      "source": [
        "ruta1 = Path.cwd() / \"sample_data\" / \"unab_c6\""
      ]
    },
    {
      "cell_type": "code",
      "execution_count": 28,
      "metadata": {
        "id": "4mU9WxuWPDrq"
      },
      "outputs": [],
      "source": [
        "os.remove(ruta1 / \"archivo1.txt\")"
      ]
    },
    {
      "cell_type": "code",
      "execution_count": 29,
      "metadata": {
        "id": "1enf8JgkPTAl"
      },
      "outputs": [],
      "source": [
        "os.rename(ruta1 / \"nombre_viejo.txt\", ruta1 / \"nombre_nuevo.txt\")"
      ]
    },
    {
      "cell_type": "code",
      "execution_count": 30,
      "metadata": {
        "id": "4-lcHBShPngm"
      },
      "outputs": [],
      "source": [
        "os.remove(ruta1 / \"nombre_nuevo.txt\")"
      ]
    },
    {
      "cell_type": "code",
      "execution_count": 31,
      "metadata": {
        "id": "Rv-NwZE2Pxiu"
      },
      "outputs": [],
      "source": [
        "ruta2 = Path.cwd() / \"sample_data\" / \"destino_c6\""
      ]
    },
    {
      "cell_type": "code",
      "execution_count": 32,
      "metadata": {
        "id": "xo2yB9WJUM4q"
      },
      "outputs": [],
      "source": [
        "ruta2.mkdir()"
      ]
    },
    {
      "cell_type": "code",
      "execution_count": 33,
      "metadata": {
        "id": "r55roE3cUP8T"
      },
      "outputs": [],
      "source": [
        "import shutil"
      ]
    },
    {
      "cell_type": "code",
      "execution_count": 35,
      "metadata": {
        "colab": {
          "base_uri": "https://localhost:8080/",
          "height": 35
        },
        "id": "JuOZxkvNUgGI",
        "outputId": "6a554990-7169-4cab-933d-f1502333c154"
      },
      "outputs": [
        {
          "data": {
            "application/vnd.google.colaboratory.intrinsic+json": {
              "type": "string"
            },
            "text/plain": [
              "'/content/sample_data/destino_c6/archivo001.txt'"
            ]
          },
          "execution_count": 35,
          "metadata": {},
          "output_type": "execute_result"
        }
      ],
      "source": [
        "shutil.copy2(ruta1 / \"archivo001.txt\", ruta2)"
      ]
    },
    {
      "cell_type": "code",
      "execution_count": 36,
      "metadata": {
        "colab": {
          "base_uri": "https://localhost:8080/",
          "height": 35
        },
        "id": "V90nEJ4pUy60",
        "outputId": "7c05cbaf-3e48-4552-8906-de555c183ba5"
      },
      "outputs": [
        {
          "data": {
            "application/vnd.google.colaboratory.intrinsic+json": {
              "type": "string"
            },
            "text/plain": [
              "'/content/sample_data/destino_c6/archivo002.txt'"
            ]
          },
          "execution_count": 36,
          "metadata": {},
          "output_type": "execute_result"
        }
      ],
      "source": [
        "shutil.copy2(ruta1 / \"archivo002.txt\", ruta2)"
      ]
    },
    {
      "cell_type": "code",
      "execution_count": 37,
      "metadata": {
        "id": "_RgV4REVU8Px"
      },
      "outputs": [],
      "source": []
    },
    {
      "cell_type": "code",
      "execution_count": 38,
      "metadata": {
        "id": "nvhFj6qdVBV9"
      },
      "outputs": [],
      "source": [
        "ruta3 = ruta1 / \"archivo003.txt\"\n",
        "ruta3.touch()"
      ]
    },
    {
      "cell_type": "code",
      "execution_count": 39,
      "metadata": {
        "colab": {
          "base_uri": "https://localhost:8080/",
          "height": 35
        },
        "id": "VuVtxijCVlXQ",
        "outputId": "1e5ddc8c-d886-41f1-b1c9-98a9fdeb8094"
      },
      "outputs": [
        {
          "data": {
            "application/vnd.google.colaboratory.intrinsic+json": {
              "type": "string"
            },
            "text/plain": [
              "'/content/sample_data/destino_c6/archivo003.txt'"
            ]
          },
          "execution_count": 39,
          "metadata": {},
          "output_type": "execute_result"
        }
      ],
      "source": [
        "shutil.move(ruta3, ruta2)"
      ]
    },
    {
      "cell_type": "code",
      "execution_count": 40,
      "metadata": {
        "id": "1BBnZZSYWD0D"
      },
      "outputs": [],
      "source": [
        "mi_archivo = open(ruta1 / \"archivo004.txt\", \"r\")"
      ]
    },
    {
      "cell_type": "code",
      "execution_count": 41,
      "metadata": {
        "colab": {
          "base_uri": "https://localhost:8080/"
        },
        "id": "iI_CFBf-adtj",
        "outputId": "da56097d-7725-4f1e-dcfb-13fab5ef57f1"
      },
      "outputs": [
        {
          "name": "stdout",
          "output_type": "stream",
          "text": [
            "PRIMERA LINEA\n",
            "SEGUNDA LINEA\n",
            "TERCERA LINEA \n",
            "\n"
          ]
        }
      ],
      "source": [
        "print(mi_archivo.read())"
      ]
    },
    {
      "cell_type": "code",
      "execution_count": 42,
      "metadata": {
        "id": "vfjIYbpHalUr"
      },
      "outputs": [],
      "source": [
        "mi_archivo.close()"
      ]
    },
    {
      "cell_type": "code",
      "execution_count": 47,
      "metadata": {
        "id": "sDli81zwarRl"
      },
      "outputs": [],
      "source": [
        "mi_archivo2 = open(ruta1 / \"archivo001.txt\", \"w\")"
      ]
    },
    {
      "cell_type": "code",
      "execution_count": 48,
      "metadata": {
        "colab": {
          "base_uri": "https://localhost:8080/"
        },
        "id": "4mcOKZ7IaumP",
        "outputId": "456561d0-92f5-4782-c3a8-8465eb306d7a"
      },
      "outputs": [
        {
          "data": {
            "text/plain": [
              "15"
            ]
          },
          "execution_count": 48,
          "metadata": {},
          "output_type": "execute_result"
        }
      ],
      "source": [
        "mi_archivo2.write(\"Una línea desde el método write \\n\")\n",
        "mi_archivo2.write(\"Otra línea... \\n\")"
      ]
    },
    {
      "cell_type": "code",
      "execution_count": 49,
      "metadata": {
        "id": "nw1hGZHkbLfN"
      },
      "outputs": [],
      "source": [
        "mi_archivo2.close()"
      ]
    },
    {
      "cell_type": "code",
      "execution_count": 50,
      "metadata": {
        "id": "lj7QeeQ5bP79"
      },
      "outputs": [],
      "source": [
        "mi_archivo2 = open(ruta1 / \"archivo001.txt\", \"a\")"
      ]
    },
    {
      "cell_type": "code",
      "execution_count": 51,
      "metadata": {
        "colab": {
          "base_uri": "https://localhost:8080/"
        },
        "id": "0hvpZZK3cD6D",
        "outputId": "97fe1ce0-7ed6-4b33-f5cf-e43c84af6b14"
      },
      "outputs": [
        {
          "data": {
            "text/plain": [
              "19"
            ]
          },
          "execution_count": 51,
          "metadata": {},
          "output_type": "execute_result"
        }
      ],
      "source": [
        "mi_archivo2.write(\"Tercera linea???? \\n\")"
      ]
    },
    {
      "cell_type": "code",
      "execution_count": 52,
      "metadata": {
        "id": "nO7RVgwtcJIE"
      },
      "outputs": [],
      "source": [
        "mi_archivo2.close()"
      ]
    },
    {
      "cell_type": "code",
      "execution_count": 55,
      "metadata": {
        "id": "f4qRLCU4cLSl"
      },
      "outputs": [],
      "source": [
        "with open(ruta1 / \"archivo002.txt\", \"w\") as f:\n",
        "  for i in range(0, 10000):\n",
        "    f.write(F\"Línea: {i}\\n\")\n"
      ]
    },
    {
      "cell_type": "code",
      "execution_count": 58,
      "metadata": {
        "colab": {
          "base_uri": "https://localhost:8080/"
        },
        "id": "km0KynQyfOsJ",
        "outputId": "4ce9a998-205b-48cf-bacc-64e887b96337"
      },
      "outputs": [
        {
          "name": "stdout",
          "output_type": "stream",
          "text": [
            "Encontramos a LEANDRO!!!\n"
          ]
        }
      ],
      "source": [
        "with open(ruta1 / \"archivo001.txt\", \"r\") as f1:\n",
        "  registros = f1.readlines()\n",
        "  for registro in registros:\n",
        "    if 'Leandro' in registro:\n",
        "      print(\"Encontramos a LEANDRO!!!\")"
      ]
    },
    {
      "cell_type": "code",
      "execution_count": 64,
      "metadata": {
        "colab": {
          "base_uri": "https://localhost:8080/"
        },
        "id": "y-LqUoY_f-P5",
        "outputId": "aabb1bc2-2b4c-4972-c0e6-d388349880a0"
      },
      "outputs": [
        {
          "name": "stdout",
          "output_type": "stream",
          "text": [
            "PEPE, tiene 22 años y cobra U$D 100000.00\n",
            "\n",
            "LOLA, tiene 25 años y cobra U$D 250000.00\n",
            "\n",
            "LUCAS, tiene 40 años y cobra U$D 300000.00\n",
            "\n",
            "MARIA, tiene 40 años y cobra U$D 500000.00\n",
            "\n",
            "PATRICIA, tiene 30 años y cobra U$D 1000000.00\n"
          ]
        }
      ],
      "source": [
        "with open(ruta1 / \"datos.txt\", \"r\") as f2:\n",
        "  registros = f2.readlines()\n",
        "  for registro in registros:\n",
        "    campos = registro.split(sep=\",\")\n",
        "    print(F\"{campos[0]}, tiene {campos[1]} años y cobra U$D {campos[2]}\")"
      ]
    },
    {
      "cell_type": "code",
      "execution_count": null,
      "metadata": {
        "id": "jv6v077_iczL"
      },
      "outputs": [],
      "source": []
    }
  ],
  "metadata": {
    "colab": {
      "provenance": []
    },
    "kernelspec": {
      "display_name": "Python 3",
      "name": "python3"
    },
    "language_info": {
      "codemirror_mode": {
        "name": "ipython",
        "version": 3
      },
      "file_extension": ".py",
      "mimetype": "text/x-python",
      "name": "python",
      "nbconvert_exporter": "python",
      "pygments_lexer": "ipython3",
      "version": "3.12.3"
    }
  },
  "nbformat": 4,
  "nbformat_minor": 0
}
