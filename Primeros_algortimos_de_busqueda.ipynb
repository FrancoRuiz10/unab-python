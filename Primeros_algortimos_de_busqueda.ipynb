{
  "nbformat": 4,
  "nbformat_minor": 0,
  "metadata": {
    "colab": {
      "provenance": []
    },
    "kernelspec": {
      "name": "python3",
      "display_name": "Python 3"
    },
    "language_info": {
      "name": "python"
    }
  },
  "cells": [
    {
      "cell_type": "code",
      "execution_count": 1,
      "metadata": {
        "id": "pvnIsJdMSWpY"
      },
      "outputs": [],
      "source": [
        "# Búsquedas\n",
        "\n",
        "lista = ['a', 'b', 1.5, 4, 'B']"
      ]
    },
    {
      "cell_type": "code",
      "source": [
        "lista.index('a')"
      ],
      "metadata": {
        "colab": {
          "base_uri": "https://localhost:8080/"
        },
        "id": "JjSSSFrcSdpt",
        "outputId": "215a4dcb-eff2-4b94-d6ae-5287b20a751e"
      },
      "execution_count": 2,
      "outputs": [
        {
          "output_type": "execute_result",
          "data": {
            "text/plain": [
              "0"
            ]
          },
          "metadata": {},
          "execution_count": 2
        }
      ]
    },
    {
      "cell_type": "code",
      "source": [
        "lista.index('Z')"
      ],
      "metadata": {
        "colab": {
          "base_uri": "https://localhost:8080/",
          "height": 141
        },
        "id": "L5bvKtz2SiE6",
        "outputId": "d69e7658-dbfb-423e-fbb1-b117c5ca683b"
      },
      "execution_count": 3,
      "outputs": [
        {
          "output_type": "error",
          "ename": "ValueError",
          "evalue": "'Z' is not in list",
          "traceback": [
            "\u001b[0;31m---------------------------------------------------------------------------\u001b[0m",
            "\u001b[0;31mValueError\u001b[0m                                Traceback (most recent call last)",
            "\u001b[0;32m<ipython-input-3-e99350183fef>\u001b[0m in \u001b[0;36m<cell line: 1>\u001b[0;34m()\u001b[0m\n\u001b[0;32m----> 1\u001b[0;31m \u001b[0mlista\u001b[0m\u001b[0;34m.\u001b[0m\u001b[0mindex\u001b[0m\u001b[0;34m(\u001b[0m\u001b[0;34m'Z'\u001b[0m\u001b[0;34m)\u001b[0m\u001b[0;34m\u001b[0m\u001b[0;34m\u001b[0m\u001b[0m\n\u001b[0m",
            "\u001b[0;31mValueError\u001b[0m: 'Z' is not in list"
          ]
        }
      ]
    },
    {
      "cell_type": "code",
      "source": [
        "2 in lista"
      ],
      "metadata": {
        "colab": {
          "base_uri": "https://localhost:8080/"
        },
        "id": "NqX_5_ICSmG_",
        "outputId": "013f3fac-4d9b-4a1f-e89e-2b2d3e782966"
      },
      "execution_count": 4,
      "outputs": [
        {
          "output_type": "execute_result",
          "data": {
            "text/plain": [
              "False"
            ]
          },
          "metadata": {},
          "execution_count": 4
        }
      ]
    },
    {
      "cell_type": "code",
      "source": [
        "'a' in lista"
      ],
      "metadata": {
        "colab": {
          "base_uri": "https://localhost:8080/"
        },
        "id": "0mqFCBbySqsF",
        "outputId": "de934eb2-7f4b-4004-c07c-06c6dd5be646"
      },
      "execution_count": 5,
      "outputs": [
        {
          "output_type": "execute_result",
          "data": {
            "text/plain": [
              "True"
            ]
          },
          "metadata": {},
          "execution_count": 5
        }
      ]
    },
    {
      "cell_type": "code",
      "source": [
        "'A' in lista"
      ],
      "metadata": {
        "colab": {
          "base_uri": "https://localhost:8080/"
        },
        "id": "ieMWCitiSu2D",
        "outputId": "d1f744b8-0cea-434d-9454-669d51185ea9"
      },
      "execution_count": 6,
      "outputs": [
        {
          "output_type": "execute_result",
          "data": {
            "text/plain": [
              "False"
            ]
          },
          "metadata": {},
          "execution_count": 6
        }
      ]
    },
    {
      "cell_type": "code",
      "source": [
        "lista1 = ['a', 'b', 'c', 'd', 'x', 'm']\n"
      ],
      "metadata": {
        "id": "TqFhBUh_Sx5Y"
      },
      "execution_count": 7,
      "outputs": []
    },
    {
      "cell_type": "code",
      "source": [
        "def buscar(lista_donde_buscar, valor_a_buscar):\n",
        "  contador = 0\n",
        "  for elemento in lista_donde_buscar:\n",
        "    contador += 1\n",
        "    if elemento == valor_a_buscar:\n",
        "      print(contador)\n",
        "      return True\n",
        "  print(contador)\n",
        "  return False"
      ],
      "metadata": {
        "id": "vuXBhHKwS9u_"
      },
      "execution_count": 13,
      "outputs": []
    },
    {
      "cell_type": "code",
      "source": [
        "buscar(lista1, 'Z')"
      ],
      "metadata": {
        "colab": {
          "base_uri": "https://localhost:8080/"
        },
        "id": "P6t2AoxoTXll",
        "outputId": "71aae0b4-41a1-43a5-ba87-97adcdc1e6d2"
      },
      "execution_count": 15,
      "outputs": [
        {
          "output_type": "stream",
          "name": "stdout",
          "text": [
            "6\n"
          ]
        },
        {
          "output_type": "execute_result",
          "data": {
            "text/plain": [
              "False"
            ]
          },
          "metadata": {},
          "execution_count": 15
        }
      ]
    },
    {
      "cell_type": "code",
      "source": [
        "lista_ordenada = [1, 2, 3, 4, 5, 6, 7, 8, 9, 10]"
      ],
      "metadata": {
        "id": "pD-8kLD8Temk"
      },
      "execution_count": 16,
      "outputs": []
    },
    {
      "cell_type": "code",
      "source": [
        "def buscar_en_dos_partes(lista_a_buscar, valor_a_buscar):\n",
        "  indice_medio = len(lista_a_buscar) // 2\n",
        "  if valor_a_buscar > lista_a_buscar[indice_medio]:\n",
        "    buscar(lista_a_buscar[indice_medio:], valor_a_buscar)\n",
        "  else:\n",
        "    buscar(lista_a_buscar[:indice_medio], valor_a_buscar)"
      ],
      "metadata": {
        "id": "nutyUwFXVBJh"
      },
      "execution_count": 23,
      "outputs": []
    },
    {
      "cell_type": "code",
      "source": [
        "buscar(lista_ordenada, 8)"
      ],
      "metadata": {
        "colab": {
          "base_uri": "https://localhost:8080/"
        },
        "id": "bHNI00M1V4wJ",
        "outputId": "19a181f0-0c38-4159-af7b-67acc68943e3"
      },
      "execution_count": 20,
      "outputs": [
        {
          "output_type": "stream",
          "name": "stdout",
          "text": [
            "8\n"
          ]
        },
        {
          "output_type": "execute_result",
          "data": {
            "text/plain": [
              "True"
            ]
          },
          "metadata": {},
          "execution_count": 20
        }
      ]
    },
    {
      "cell_type": "code",
      "source": [
        "buscar_en_dos_partes(lista_ordenada, 8)"
      ],
      "metadata": {
        "colab": {
          "base_uri": "https://localhost:8080/"
        },
        "id": "KmzAwEOqWUyp",
        "outputId": "dc9ab486-01dd-4256-bd52-d26ff125e843"
      },
      "execution_count": 24,
      "outputs": [
        {
          "output_type": "stream",
          "name": "stdout",
          "text": [
            "3\n"
          ]
        }
      ]
    },
    {
      "cell_type": "code",
      "source": [
        "buscar_en_dos_partes(lista_ordenada, 5)"
      ],
      "metadata": {
        "colab": {
          "base_uri": "https://localhost:8080/"
        },
        "id": "OmbOPpxwWcWd",
        "outputId": "b43b75fa-aee1-4aac-ca53-41bb27ab9411"
      },
      "execution_count": 25,
      "outputs": [
        {
          "output_type": "stream",
          "name": "stdout",
          "text": [
            "5\n"
          ]
        }
      ]
    },
    {
      "cell_type": "code",
      "source": [],
      "metadata": {
        "id": "a7lMCFWeWs9g"
      },
      "execution_count": null,
      "outputs": []
    }
  ]
}