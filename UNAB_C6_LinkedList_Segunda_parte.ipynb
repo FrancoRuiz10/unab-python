{
  "nbformat": 4,
  "nbformat_minor": 0,
  "metadata": {
    "colab": {
      "provenance": []
    },
    "kernelspec": {
      "name": "python3",
      "display_name": "Python 3"
    },
    "language_info": {
      "name": "python"
    }
  },
  "cells": [
    {
      "cell_type": "code",
      "execution_count": 1,
      "metadata": {
        "id": "urgMUVxrpxFD"
      },
      "outputs": [],
      "source": [
        "class Nodo:\n",
        "  def __init__(self, dato, siguiente=None):\n",
        "    self.dato = dato\n",
        "    self.next = siguiente"
      ]
    },
    {
      "cell_type": "code",
      "source": [
        "class ListaEnlazada:\n",
        "  def __init__(self):\n",
        "    self.primero = None\n",
        "    self.len = 0\n",
        "\n",
        "  # Inserta un nodo al inicio de la lista\n",
        "  def insertarAlInicio(self, nodo):\n",
        "    # Si el primer elemento es None, lo inserta en primero\n",
        "    if self.primero is None:\n",
        "      self.primero = nodo\n",
        "    else:\n",
        "      # Si no es el primero, lo inserta antes\n",
        "      nuevo_nodo = self.primero\n",
        "      self.primero = nodo\n",
        "      self.primero.next = nuevo_nodo\n",
        "    self.len += 1\n",
        "\n",
        "  # Insertar al final\n",
        "  def insertarAlFinal(self, nodo):\n",
        "    if self.primero is None:\n",
        "      self.primero = nodo\n",
        "    else:\n",
        "      nodo_temporal = self.primero\n",
        "      while(nodo_temporal.next is not None):\n",
        "        nodo_temporal = nodo_temporal.next\n",
        "      nodo_temporal.next = nodo\n",
        "    self.len += 1\n",
        "\n",
        "  # Devuelve la posición del elemento, o Excepción si no lo encuentra\n",
        "  def posicionElemento(self, valor):\n",
        "    if self.primero is None:\n",
        "      raise Exception(\"Lista vacía\")\n",
        "    else:\n",
        "      posicion = 0\n",
        "      if self.primero.dato == valor:\n",
        "        return posicion\n",
        "      else:\n",
        "        nodo_temporal = self.primero\n",
        "        while(nodo_temporal.next is not None):\n",
        "          nodo_temporal = nodo_temporal.next\n",
        "          posicion += 1\n",
        "          if nodo_temporal.dato == valor:\n",
        "            return posicion\n",
        "      raise Exception(\"Valor no encontrado!!\")\n",
        "\n",
        "  # Devuelve y remueve el primer elemento\n",
        "  def remuevePrimerElemento(self):\n",
        "    if self.primero is None:\n",
        "      raise Exception(\"La Lista está Vacía\")\n",
        "    else:\n",
        "      nodo_temporal = self.primero\n",
        "      self.primero = self.primero.next\n",
        "      self.len -= 1\n",
        "      return nodo_temporal\n",
        "\n",
        "  def remueveUltimoElemento(self):\n",
        "    if self.primero is None:\n",
        "      raise Exception(\"La Lista está Vacía\")\n",
        "    if self.primero.next is None:\n",
        "      nodo_a_devolver = self.primero\n",
        "      self.primero = None\n",
        "      self.len -= 1\n",
        "      return nodo_a_devolver\n",
        "\n",
        "    nodo_temporal = self.primero\n",
        "    while (nodo_temporal.next.next is not None):\n",
        "      nodo_temporal = nodo_temporal.next\n",
        "    nodo_a_devolver = nodo_temporal.next\n",
        "    nodo_temporal.next = None\n",
        "    self.len -= 1\n",
        "    return nodo_a_devolver\n",
        "\n",
        "\n",
        "  def remueveElemento(self, valor):\n",
        "    pass\n",
        "\n",
        "  def remueveIndice(self, indice):\n",
        "    pass\n",
        "\n",
        "  def elementoPorIndice(self, indice):\n",
        "    pass\n",
        "\n",
        "\n",
        "  # Representación en forma de string de la ListaEnlazada\n",
        "  def __str__(self):\n",
        "    if self.primero is None:\n",
        "      return \"[]\"\n",
        "    else:\n",
        "      str_lista = \"[ \"\n",
        "      nodo = self.primero\n",
        "      str_lista += str(self.primero.dato)\n",
        "      while(nodo.next is not None):\n",
        "        nodo = nodo.next\n",
        "        # str_lista = str_lista + \" \" + str(nodo.dato)\n",
        "        str_lista += \" \"\n",
        "        str_lista += str(nodo.dato)\n",
        "      str_lista += \" ]\"\n",
        "      return str_lista\n"
      ],
      "metadata": {
        "id": "ISUCee3sv3sM"
      },
      "execution_count": 87,
      "outputs": []
    },
    {
      "cell_type": "code",
      "source": [
        "my_lista = ListaEnlazada()\n",
        "print(my_lista.len)\n",
        "print(my_lista)\n",
        "# my_lista.posicionElemento(1)"
      ],
      "metadata": {
        "colab": {
          "base_uri": "https://localhost:8080/"
        },
        "id": "foFizw-fwQ3V",
        "outputId": "55537ad5-719d-4a16-c92e-db1a85554084"
      },
      "execution_count": 88,
      "outputs": [
        {
          "output_type": "stream",
          "name": "stdout",
          "text": [
            "0\n",
            "[]\n"
          ]
        }
      ]
    },
    {
      "cell_type": "code",
      "source": [
        "nodo_x = Nodo(3)\n",
        "my_lista.insertarAlInicio(nodo_x)"
      ],
      "metadata": {
        "id": "77rmEnG1waD8"
      },
      "execution_count": 89,
      "outputs": []
    },
    {
      "cell_type": "code",
      "source": [
        "nodo_y = Nodo(9)\n",
        "my_lista.insertarAlInicio(nodo_y)"
      ],
      "metadata": {
        "id": "7k8RFvROyz_D"
      },
      "execution_count": 90,
      "outputs": []
    },
    {
      "cell_type": "code",
      "source": [
        "print(my_lista.len)\n",
        "print(my_lista)"
      ],
      "metadata": {
        "colab": {
          "base_uri": "https://localhost:8080/"
        },
        "id": "FWNYxBwEy93Z",
        "outputId": "0c03e7e6-c5f5-4a81-d24a-9ece447fb013"
      },
      "execution_count": 91,
      "outputs": [
        {
          "output_type": "stream",
          "name": "stdout",
          "text": [
            "2\n",
            "[ 9 3 ]\n"
          ]
        }
      ]
    },
    {
      "cell_type": "code",
      "source": [
        "my_lista.insertarAlFinal(Nodo(0))\n",
        "print(my_lista)"
      ],
      "metadata": {
        "colab": {
          "base_uri": "https://localhost:8080/"
        },
        "id": "oj4LKkMPzECc",
        "outputId": "9b497d64-6368-48c5-bfff-abe7053c84c3"
      },
      "execution_count": 92,
      "outputs": [
        {
          "output_type": "stream",
          "name": "stdout",
          "text": [
            "[ 9 3 0 ]\n"
          ]
        }
      ]
    },
    {
      "cell_type": "code",
      "source": [
        "print(my_lista)"
      ],
      "metadata": {
        "colab": {
          "base_uri": "https://localhost:8080/"
        },
        "id": "RUSMW66dKutH",
        "outputId": "c81c6659-9db5-45ce-f5d9-ddd693e6df57"
      },
      "execution_count": 93,
      "outputs": [
        {
          "output_type": "stream",
          "name": "stdout",
          "text": [
            "[ 9 3 0 ]\n"
          ]
        }
      ]
    },
    {
      "cell_type": "code",
      "source": [
        "nodo_final = my_lista.remueveUltimoElemento()\n",
        "nodo_final.dato"
      ],
      "metadata": {
        "colab": {
          "base_uri": "https://localhost:8080/",
          "height": 280
        },
        "id": "NqvpWl-rKffY",
        "outputId": "e842bd15-d5ed-4f60-8167-043de277b6e3"
      },
      "execution_count": 98,
      "outputs": [
        {
          "output_type": "error",
          "ename": "Exception",
          "evalue": "La Lista está Vacía",
          "traceback": [
            "\u001b[0;31m---------------------------------------------------------------------------\u001b[0m",
            "\u001b[0;31mException\u001b[0m                                 Traceback (most recent call last)",
            "\u001b[0;32m<ipython-input-98-7fa35d523ad3>\u001b[0m in \u001b[0;36m<cell line: 1>\u001b[0;34m()\u001b[0m\n\u001b[0;32m----> 1\u001b[0;31m \u001b[0mnodo_final\u001b[0m \u001b[0;34m=\u001b[0m \u001b[0mmy_lista\u001b[0m\u001b[0;34m.\u001b[0m\u001b[0mremueveUltimoElemento\u001b[0m\u001b[0;34m(\u001b[0m\u001b[0;34m)\u001b[0m\u001b[0;34m\u001b[0m\u001b[0;34m\u001b[0m\u001b[0m\n\u001b[0m\u001b[1;32m      2\u001b[0m \u001b[0mnodo_final\u001b[0m\u001b[0;34m.\u001b[0m\u001b[0mdato\u001b[0m\u001b[0;34m\u001b[0m\u001b[0;34m\u001b[0m\u001b[0m\n",
            "\u001b[0;32m<ipython-input-87-314934b6f0d4>\u001b[0m in \u001b[0;36mremueveUltimoElemento\u001b[0;34m(self)\u001b[0m\n\u001b[1;32m     56\u001b[0m   \u001b[0;32mdef\u001b[0m \u001b[0mremueveUltimoElemento\u001b[0m\u001b[0;34m(\u001b[0m\u001b[0mself\u001b[0m\u001b[0;34m)\u001b[0m\u001b[0;34m:\u001b[0m\u001b[0;34m\u001b[0m\u001b[0;34m\u001b[0m\u001b[0m\n\u001b[1;32m     57\u001b[0m     \u001b[0;32mif\u001b[0m \u001b[0mself\u001b[0m\u001b[0;34m.\u001b[0m\u001b[0mprimero\u001b[0m \u001b[0;32mis\u001b[0m \u001b[0;32mNone\u001b[0m\u001b[0;34m:\u001b[0m\u001b[0;34m\u001b[0m\u001b[0;34m\u001b[0m\u001b[0m\n\u001b[0;32m---> 58\u001b[0;31m       \u001b[0;32mraise\u001b[0m \u001b[0mException\u001b[0m\u001b[0;34m(\u001b[0m\u001b[0;34m\"La Lista está Vacía\"\u001b[0m\u001b[0;34m)\u001b[0m\u001b[0;34m\u001b[0m\u001b[0;34m\u001b[0m\u001b[0m\n\u001b[0m\u001b[1;32m     59\u001b[0m     \u001b[0;32mif\u001b[0m \u001b[0mself\u001b[0m\u001b[0;34m.\u001b[0m\u001b[0mprimero\u001b[0m\u001b[0;34m.\u001b[0m\u001b[0mnext\u001b[0m \u001b[0;32mis\u001b[0m \u001b[0;32mNone\u001b[0m\u001b[0;34m:\u001b[0m\u001b[0;34m\u001b[0m\u001b[0;34m\u001b[0m\u001b[0m\n\u001b[1;32m     60\u001b[0m       \u001b[0mnodo_a_devolver\u001b[0m \u001b[0;34m=\u001b[0m \u001b[0mself\u001b[0m\u001b[0;34m.\u001b[0m\u001b[0mprimero\u001b[0m\u001b[0;34m\u001b[0m\u001b[0;34m\u001b[0m\u001b[0m\n",
            "\u001b[0;31mException\u001b[0m: La Lista está Vacía"
          ]
        }
      ]
    },
    {
      "cell_type": "code",
      "source": [
        "my_lista2 = ListaEnlazada()\n",
        "my_lista2.insertarAlFinal(Nodo(1))\n",
        "nodo = my_lista2.remueveUltimoElemento()\n",
        "nodo.dato"
      ],
      "metadata": {
        "colab": {
          "base_uri": "https://localhost:8080/"
        },
        "id": "j-Ch3E-ZIti5",
        "outputId": "656ae9dd-a867-4adc-d9f9-830f54412288"
      },
      "execution_count": 77,
      "outputs": [
        {
          "output_type": "execute_result",
          "data": {
            "text/plain": [
              "1"
            ]
          },
          "metadata": {},
          "execution_count": 77
        }
      ]
    },
    {
      "cell_type": "code",
      "source": [
        "my_lista.posicionElemento(9)"
      ],
      "metadata": {
        "colab": {
          "base_uri": "https://localhost:8080/"
        },
        "id": "NXatGv4E3yB7",
        "outputId": "676f8fa5-9bf2-4bbb-e602-b14798ecb3dc"
      },
      "execution_count": 60,
      "outputs": [
        {
          "output_type": "execute_result",
          "data": {
            "text/plain": [
              "0"
            ]
          },
          "metadata": {},
          "execution_count": 60
        }
      ]
    },
    {
      "cell_type": "code",
      "source": [
        "nodo = my_lista.remuevePrimerElemento()\n",
        "nodo.dato"
      ],
      "metadata": {
        "colab": {
          "base_uri": "https://localhost:8080/"
        },
        "id": "3KMOgH_35Xnf",
        "outputId": "f548e0de-f9da-4e80-d074-3d238c92b117"
      },
      "execution_count": 61,
      "outputs": [
        {
          "output_type": "execute_result",
          "data": {
            "text/plain": [
              "9"
            ]
          },
          "metadata": {},
          "execution_count": 61
        }
      ]
    },
    {
      "cell_type": "code",
      "source": [
        "print(my_lista)"
      ],
      "metadata": {
        "colab": {
          "base_uri": "https://localhost:8080/"
        },
        "id": "s51wD8Ft_MGd",
        "outputId": "4f13d44e-9a84-4755-ecdb-acdef5b55ea6"
      },
      "execution_count": 62,
      "outputs": [
        {
          "output_type": "stream",
          "name": "stdout",
          "text": [
            "[ 3 0 ]\n"
          ]
        }
      ]
    },
    {
      "cell_type": "code",
      "source": [
        "my_lista.len"
      ],
      "metadata": {
        "colab": {
          "base_uri": "https://localhost:8080/"
        },
        "id": "ROeE_o_3_Zof",
        "outputId": "11a7add7-3ed5-4be9-d883-f0a3b45ec030"
      },
      "execution_count": 63,
      "outputs": [
        {
          "output_type": "execute_result",
          "data": {
            "text/plain": [
              "2"
            ]
          },
          "metadata": {},
          "execution_count": 63
        }
      ]
    },
    {
      "cell_type": "code",
      "source": [
        "my_lista.remuevePrimerElemento()"
      ],
      "metadata": {
        "colab": {
          "base_uri": "https://localhost:8080/"
        },
        "id": "y4D514CF_d5z",
        "outputId": "9141fcdf-2ac5-4be3-8691-73971a95f125"
      },
      "execution_count": 64,
      "outputs": [
        {
          "output_type": "execute_result",
          "data": {
            "text/plain": [
              "<__main__.Nodo at 0x79f57d0131c0>"
            ]
          },
          "metadata": {},
          "execution_count": 64
        }
      ]
    },
    {
      "cell_type": "code",
      "source": [
        "print(my_lista)"
      ],
      "metadata": {
        "colab": {
          "base_uri": "https://localhost:8080/"
        },
        "id": "pnveNk-v_jFu",
        "outputId": "8ef1ff5a-b268-48e2-acee-b1978d00f293"
      },
      "execution_count": 65,
      "outputs": [
        {
          "output_type": "stream",
          "name": "stdout",
          "text": [
            "[ 0 ]\n"
          ]
        }
      ]
    },
    {
      "cell_type": "code",
      "source": [
        "my_lista.remuevePrimerElemento()"
      ],
      "metadata": {
        "colab": {
          "base_uri": "https://localhost:8080/"
        },
        "id": "T0FORryV_lNL",
        "outputId": "9b085286-4126-4b69-ecdb-a431ce38e1c2"
      },
      "execution_count": 66,
      "outputs": [
        {
          "output_type": "execute_result",
          "data": {
            "text/plain": [
              "<__main__.Nodo at 0x79f57d010d60>"
            ]
          },
          "metadata": {},
          "execution_count": 66
        }
      ]
    },
    {
      "cell_type": "code",
      "source": [
        "my_lista.len"
      ],
      "metadata": {
        "colab": {
          "base_uri": "https://localhost:8080/"
        },
        "id": "exhVVpYs_pq-",
        "outputId": "9a85cefe-e8f1-496c-e908-d3026019f279"
      },
      "execution_count": 67,
      "outputs": [
        {
          "output_type": "execute_result",
          "data": {
            "text/plain": [
              "0"
            ]
          },
          "metadata": {},
          "execution_count": 67
        }
      ]
    },
    {
      "cell_type": "code",
      "source": [
        "my_lista.remuevePrimerElemento()"
      ],
      "metadata": {
        "colab": {
          "base_uri": "https://localhost:8080/",
          "height": 263
        },
        "id": "diXnuF9H_sVX",
        "outputId": "bb8f44da-83b3-40b9-f2d0-d1ec61d7d91e"
      },
      "execution_count": 68,
      "outputs": [
        {
          "output_type": "error",
          "ename": "Exception",
          "evalue": "La Lista está Vacía",
          "traceback": [
            "\u001b[0;31m---------------------------------------------------------------------------\u001b[0m",
            "\u001b[0;31mException\u001b[0m                                 Traceback (most recent call last)",
            "\u001b[0;32m<ipython-input-68-fed007508231>\u001b[0m in \u001b[0;36m<cell line: 1>\u001b[0;34m()\u001b[0m\n\u001b[0;32m----> 1\u001b[0;31m \u001b[0mmy_lista\u001b[0m\u001b[0;34m.\u001b[0m\u001b[0mremuevePrimerElemento\u001b[0m\u001b[0;34m(\u001b[0m\u001b[0;34m)\u001b[0m\u001b[0;34m\u001b[0m\u001b[0;34m\u001b[0m\u001b[0m\n\u001b[0m",
            "\u001b[0;32m<ipython-input-47-d86b692ebc47>\u001b[0m in \u001b[0;36mremuevePrimerElemento\u001b[0;34m(self)\u001b[0m\n\u001b[1;32m     47\u001b[0m   \u001b[0;32mdef\u001b[0m \u001b[0mremuevePrimerElemento\u001b[0m\u001b[0;34m(\u001b[0m\u001b[0mself\u001b[0m\u001b[0;34m)\u001b[0m\u001b[0;34m:\u001b[0m\u001b[0;34m\u001b[0m\u001b[0;34m\u001b[0m\u001b[0m\n\u001b[1;32m     48\u001b[0m     \u001b[0;32mif\u001b[0m \u001b[0mself\u001b[0m\u001b[0;34m.\u001b[0m\u001b[0mprimero\u001b[0m \u001b[0;32mis\u001b[0m \u001b[0;32mNone\u001b[0m\u001b[0;34m:\u001b[0m\u001b[0;34m\u001b[0m\u001b[0;34m\u001b[0m\u001b[0m\n\u001b[0;32m---> 49\u001b[0;31m       \u001b[0;32mraise\u001b[0m \u001b[0mException\u001b[0m\u001b[0;34m(\u001b[0m\u001b[0;34m\"La Lista está Vacía\"\u001b[0m\u001b[0;34m)\u001b[0m\u001b[0;34m\u001b[0m\u001b[0;34m\u001b[0m\u001b[0m\n\u001b[0m\u001b[1;32m     50\u001b[0m     \u001b[0;32melse\u001b[0m\u001b[0;34m:\u001b[0m\u001b[0;34m\u001b[0m\u001b[0;34m\u001b[0m\u001b[0m\n\u001b[1;32m     51\u001b[0m       \u001b[0mnodo_temporal\u001b[0m \u001b[0;34m=\u001b[0m \u001b[0mself\u001b[0m\u001b[0;34m.\u001b[0m\u001b[0mprimero\u001b[0m\u001b[0;34m\u001b[0m\u001b[0;34m\u001b[0m\u001b[0m\n",
            "\u001b[0;31mException\u001b[0m: La Lista está Vacía"
          ]
        }
      ]
    },
    {
      "cell_type": "code",
      "source": [],
      "metadata": {
        "id": "ExEcJRhJ_wOT"
      },
      "execution_count": null,
      "outputs": []
    }
  ]
}