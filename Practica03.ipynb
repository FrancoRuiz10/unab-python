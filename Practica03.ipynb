{
 "cells": [
  {
   "cell_type": "markdown",
   "metadata": {},
   "source": [
    "# Clase 03 - Practica 3 - Funciones - "
   ]
  },
  {
   "cell_type": "markdown",
   "metadata": {},
   "source": [
    "Implementar una función **recursiva** que retorne la suma de los primeros $\\textit{n}$ números."
   ]
  },
  {
   "cell_type": "code",
   "execution_count": 4,
   "metadata": {},
   "outputs": [
    {
     "name": "stdout",
     "output_type": "stream",
     "text": [
      "15\n"
     ]
    }
   ],
   "source": [
    "def suma_primeros(numeros):\n",
    "    if numeros == 0:\n",
    "        return 0\n",
    "    else:\n",
    "        return numeros + suma_primeros(numeros - 1)\n",
    "    \n",
    "print(suma_primeros(5))"
   ]
  },
  {
   "cell_type": "markdown",
   "metadata": {},
   "source": [
    "Implementar una función **iterativa** que retorne la suma de los primeros $\\textit{n}$ números."
   ]
  },
  {
   "cell_type": "code",
   "execution_count": 3,
   "metadata": {},
   "outputs": [
    {
     "name": "stdout",
     "output_type": "stream",
     "text": [
      "6\n"
     ]
    }
   ],
   "source": [
    "def suma_n_numeros(n):\n",
    "    suma=0\n",
    "    for i in range(1,n+1):\n",
    "        suma+=i\n",
    "\n",
    "    return suma\n",
    "n=3\n",
    "print(suma_n_numeros(n))"
   ]
  },
  {
   "cell_type": "markdown",
   "metadata": {},
   "source": [
    "Implementar una función **recursiva** que reciba como parametro una lista de números enteros y retorne el maximo. "
   ]
  },
  {
   "cell_type": "code",
   "execution_count": 10,
   "metadata": {},
   "outputs": [
    {
     "name": "stdout",
     "output_type": "stream",
     "text": [
      "El máximo de la lista [3, 7, 8, 2, 1] es: 8\n"
     ]
    }
   ],
   "source": [
    "def maximo_recursivo(listas):\n",
    "    if len(listas)==1:\n",
    "        return listas[0]\n",
    "    else:\n",
    "        return max(listas[0], maximo_recursivo(listas[1:]))\n",
    "    \n",
    "numeros=[3,7,8,2,1]\n",
    "print(f\"El máximo de la lista {numeros} es: {maximo_recursivo(numeros)}\")"
   ]
  },
  {
   "cell_type": "markdown",
   "metadata": {},
   "source": [
    "Escribir un programa que, dado un número entero $k$, retorne el indice de la primer ocurrencia del número 1, en la secuencia de Siracusa generada con el parametro $k$. Es decir, la cantidad de pasos necesarios para que la serie converja a su punto fijo.  \n",
    "\n",
    "La secuencia de Siracusa: \\\\\n",
    "- El primer termino es $s_0=k$, y los terminos siguentes ($s_i$) se calculan con la siguiente formula: \n",
    " - (i) si el termino $k_i$ es par, dividimos por 2: $\\frac{k}{2}$;\n",
    " - (ii) si el termino $k_i$ es impar, multiplicamos por 3 y sumamos 1: $(3 k + 1)$. \\\\\n",
    "\n",
    "$s_{n+1} = \\left\\lbrace\\begin{array}{l} \\dfrac{s_{n}}{2}  &\\texttt{si } n \\texttt{ es par}\\\\\n",
    "3 s_{n} + 1  &\\texttt{si } n \\texttt{ es impar}\\end{array}\\right.$\n",
    "\n",
    "La secuencia para cuando obtenemos el numero $1$, ya que desde ese punto se repite. \n",
    "**Ejemplo:** para $k=1$, $k=2$, o $k=4$. La secuencia de Siracusa sera: [4, 2, 1]. \n",
    "\n"
   ]
  },
  {
   "cell_type": "code",
   "execution_count": 7,
   "metadata": {},
   "outputs": [
    {
     "name": "stdout",
     "output_type": "stream",
     "text": [
      "7\n"
     ]
    }
   ],
   "source": [
    "def siracusa(k):\n",
    "    secuencia=[k]\n",
    "    while secuencia[-1]!=1:\n",
    "        ultimo=secuencia[-1]\n",
    "        if ultimo%2==0:\n",
    "            secuencia.append(ultimo//2)\n",
    "        else:\n",
    "            secuencia.append(ultimo*3+1)\n",
    "    return secuencia.index(1)\n",
    "\n",
    "k=3\n",
    "print(siracusa(k))"
   ]
  }
 ],
 "metadata": {
  "kernelspec": {
   "display_name": "Python 3",
   "language": "python",
   "name": "python3"
  },
  "language_info": {
   "codemirror_mode": {
    "name": "ipython",
    "version": 3
   },
   "file_extension": ".py",
   "mimetype": "text/x-python",
   "name": "python",
   "nbconvert_exporter": "python",
   "pygments_lexer": "ipython3",
   "version": "3.12.3"
  }
 },
 "nbformat": 4,
 "nbformat_minor": 2
}
